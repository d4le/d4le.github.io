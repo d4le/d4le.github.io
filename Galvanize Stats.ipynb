{
 "cells": [
  {
   "cell_type": "markdown",
   "metadata": {},
   "source": [
    "# Galvanize self-assement stats\n",
    "## Dale Taylor dt2003@nimby.net"
   ]
  },
  {
   "cell_type": "markdown",
   "metadata": {
    "collapsed": true
   },
   "source": [
    "## 1. Permutations\n",
    "1. How many ways can you arrange the numbers 1, 2, 3, 4 and 5?\n",
    "    >**5! = 120**\n",
    "2. How many ways can you arrange 1, 1, 2, 3, 4?\n",
    "    >**5 things, 2 of which are alike: 5!/2! = 60**\n",
    "3. How many ways can you arrange two 3s and three 5s?\n",
    "    >**8 things, 3 alike & 5 alike: 8!/(2!5!) = 168**\n"
   ]
  },
  {
   "cell_type": "markdown",
   "metadata": {},
   "source": [
    "## 2. Combinations"
   ]
  },
  {
   "cell_type": "code",
   "execution_count": 22,
   "metadata": {
    "collapsed": false
   },
   "outputs": [
    {
     "name": "stdout",
     "output_type": "stream",
     "text": [
      "311875200.0\n",
      "60.0\n",
      "125\n"
     ]
    }
   ],
   "source": [
    "from math import *\n",
    "\n",
    "'''1. How many different poker hands (5 cards) can you have? A deck holds 52 cards.\n",
    "'''\n",
    "print(factorial(52)/(factorial(52-5)))\n",
    "\n",
    "'''2. There are five flavors of ice cream: Stracciatella, Mint chocolate chip, Cookies and Cream, Butter\n",
    "Pecan, Pistachio and Pralines and cream. How many three scoop ice-creams can you make if all the\n",
    "scoops must be different flavors?\n",
    "'''\n",
    "print(factorial(5)/(factorial(5-3)))\n",
    "\n",
    "'''Extra Credit: what happens if you can take several scoops of the same flavor? \n",
    "n draws from N items w/replace is N^n\n",
    "'''\n",
    "print(5*5*5)"
   ]
  },
  {
   "cell_type": "markdown",
   "metadata": {},
   "source": [
    "# Probability\n",
    "\n",
    "## 1. Probability of an event"
   ]
  },
  {
   "cell_type": "code",
   "execution_count": 15,
   "metadata": {
    "collapsed": false,
    "scrolled": true
   },
   "outputs": [
    {
     "name": "stdout",
     "output_type": "stream",
     "text": [
      "1. In a deck of cards (52 cards), what’s the probability of picking a queen? A heart? Of picking a card\n",
      "that’s not a queen nor a heart?\n",
      "\n",
      "0.07692307692307693\n",
      "0.9230769230769231\n",
      "\n",
      "2. If we do not replace the cards, what is the probability of picking 2 kings? 4 diamonds? How do these\n",
      "probabilities evolve if I replace the cards after each draw?\n",
      "\n",
      "0.004524886877828055\n",
      "0.0026410564225690276\n",
      "0.00591715976331361\n",
      "0.00390625\n"
     ]
    }
   ],
   "source": [
    "print('''1. In a deck of cards (52 cards), what’s the probability of picking a queen? A heart? Of picking a card\n",
    "that’s not a queen nor a heart?\n",
    "''')\n",
    "prob_Q = 4/52\n",
    "print(prob_Q)\n",
    "\n",
    "prob_not_Q = (52-4)/52\n",
    "print(prob_not_Q)\n",
    "\n",
    "print ('''\n",
    "2. If we do not replace the cards, what is the probability of picking 2 kings? 4 diamonds? How do these\n",
    "probabilities evolve if I replace the cards after each draw?\n",
    "''')\n",
    "prob_2K_noreplace = 4/52 * 3/51\n",
    "print(prob_2K_noreplace)\n",
    "\n",
    "prob_4dia_noreplace = 13/52 * 12/51 * 11/50 * 10/49\n",
    "print(prob_4dia_noreplace)\n",
    "\n",
    "prob_2K = 4/52 * 4/52\n",
    "print(prob_2K)\n",
    "\n",
    "prob_4dia = (13/52)**4\n",
    "print(prob_4dia)"
   ]
  },
  {
   "cell_type": "markdown",
   "metadata": {},
   "source": [
    "## 2. Probability of 2 or more events\n",
    "Conditional probability\n",
    "\n",
    "1. What is the probability that the total of two dice is less than four, knowing that the first die is a 2?\n",
    ">**ANSWER:** There are 6 possible sums given the first die is 2: 3,4,5,6,7,8 , there is a 1 in 6 chance the total will be less than (but not equal) to 4\n",
    "\n",
    "2. 90% of candidates to a Web developer position can code both in Javascript and HTML. 70% of these\n",
    "candidates can code in Javascript and 50% can code in HTML. What is the probability that a candidate\n",
    "can code in HTML knowing that he can code in Javascript?\n",
    ">**ANSWER:** I'm not sure I understand the question, if 90% can code in both JS and HTML, then it is impossible for 70% to be able only to code in JS. Therefore we must assume we are referring to the 10% that can't code in both JS ad HTML. Given that assumption 70% of the 10% can code JS but not HTML, so there is .7 \\* .1 chance of selecting a candidate that can code JS but not HTML. We want the complementary probability, 1-(.7 \\* .1)"
   ]
  },
  {
   "cell_type": "markdown",
   "metadata": {},
   "source": [
    "## Independent and dependent events\n",
    "1. Number of kids dressed as pumpkins or ghosts on Halloween night and the amount of candy they\n",
    "received:\n",
    "* What is the probability that a kid dressed as a pumpkin gets 20 or more pieces of candy? How about if he dresses as a ghost?\n",
    ">**ANSWER:**  Number of kids dressed as pumpkins: 100. Number of kids as ghosts: 150. Total kids: 250. For pumpkins, (60+30) kids w/ 20+ pieces of candy out of 100 **(90/100 or 90% prob)**. For ghosts, (80+15) kids w/ 20+ pieces out of 150 **(95/150 or 63.33% prob)**\n",
    "* What is the probability that a kid obtains less than 10 pieces of candy?\n",
    ">**ANSWER:**  total of 20 kids (both pumpkins and ghosts) out of 250 kids had less than 10 candies. **(20/250 or 8% prob)**\n",
    "* What is the probability that two siblings, one dressed as a ghost and one dressed as a pumpkin, each receive 20 to 30 pieces of candy?\n",
    ">**ANSWER:**  No distribution of siblings given, so probability of two randomly chosen kids, 1 pumpkin, 1 ghost. There are 60 pumpkin and 80 ghosts w/ 20-30 pieces. Probability of pumpkin first sibling pair is 60/250 \\* 80/249. While ghosts first is 80/250 \\* 60/249. Or the total probability of getting either pair is  ( 60/250 \\* 80/249 ) + (  80/250 \\* 60/249 ) or .1542%\n",
    "\n",
    "2. You toss a fair die twice. What is the probability of getting less than 3 on the first toss and an even number on the second?\n",
    ">**ANSWER:**  2 out of 6 chance for less than 3 on first die. 3 out of 6 chance for even number on the second die. Dependent events: 1/3 \\* 1/2 or 16.67%"
   ]
  },
  {
   "cell_type": "markdown",
   "metadata": {},
   "source": [
    "## Mutually exclusive events\n",
    "Let’s consider a population from which we draw a sample of 40 individuals. The probability of your sample\n",
    "having no-one with glasses is 26%. The probability of having only one individual wearing glasses is 32%.\n",
    "What is the probability of\n",
    "1. Obtaining not more than one individual wearing glasses in a sample?\n",
    ">**ANSWER:**  This is an \"OR\" probability because they are exclusive, we add .26 for no glasses and .32 one person w/glasses .26+.32 = .58\n",
    "* Obtaining more than one individual wearing glasses in a sample?\n",
    ">**ANSWER:**  This is the complement probabity of first problem: 1 - .58 = .42"
   ]
  },
  {
   "cell_type": "markdown",
   "metadata": {},
   "source": [
    "## Bayes’ Theorem\n",
    "1. To detect a medical condition, patients are given two tests. 25% of the patients receive positive results\n",
    "on both tests and 42% of the patients receive positive results on the first test. What percent of those\n",
    "who have positive results on the first test passed also had positive result on the second test?\n",
    ">**ANSWER:**  Given: P(A & B) = .25, P(A) = .42 \n",
    "<br>P(B) = P(A & B)/P(A) = .25/.42 = .5952\n",
    "<br>59.52% of those positive for A are positive for B. (ie .5952\\*.42 = .25)\n",
    "2. Extra Credit: A jar contains red and blue marbles. You draw two marbles one after the other without replacing the first marble in the jar. You know that:\n",
    "    * The probability of selecting a blue marble and then a red marble is 30%.\n",
    "    * The probability of selecting a red marble on the first draw is 50%.\n",
    "\n",
    "You first draw a red marble. What is the probability of selecting a blue marble on the second draw?\n",
    ">**ANSWER:** Given: P(R) = .50, So P(B) must also be .50 (ie. 1 - .50), but we don't know how many\n",
    "<br>**ANSWER:** Given: P(R|B) = .30, but since ratio of red/blue marbles is 1, by symmetry it also makes P(B|R) = .30\n"
   ]
  },
  {
   "cell_type": "markdown",
   "metadata": {},
   "source": [
    "# Probability distributions Problems"
   ]
  },
  {
   "cell_type": "markdown",
   "metadata": {},
   "source": [
    "## Binomial distribution\n",
    "\n",
    "1. Fair coin: Imagine you were to flip a fair coin 10 times. What would be the probability of getting 5 heads?\n",
    ">**ANSWER:** Ways getting 5H and 5T out of 10 throws is 10!/(5!\\*5!), or 252 ways. There are 2^10 (1024) possible ways of all throws. So probability is 252/1024 or ~24.6%\n",
    "2. Unfair coin: You have a coin with which you are 2 times more likely to get heads than tails. You flip the coin 100 times. What is the probability of getting 20 tails? What is the probability of getting at least one heads?\n",
    ">**ANSWER:** Given P(H) = 2/3, P(T) = 1/3. Probability of getting exactly 20 tails out of 100 throws of this biased coin can be determined from probabilty mass function.\n",
    ">$\\displaystyle {n \\choose k} p^k (1-p)^{n-k}$ plugged into stats.binom.pmf(k=20,n=100,p=0.33333333) = 0.00125726140333\n",
    "><br><br>\n",
    ">**ANSWER:** The probability of getting at least one head in 100 throws of a biased coin that is biased 2/3 to heads is very close to a certainity. This is a probability cummulative function $\\displaystyle \\sum_{i=0}^{\\lfloor k \\rfloor} {n \\choose i} p^i (1-p)^{n-i}$ plugged in as the probablity of 99 or fewer tails out of 100 stats.binom.cdf(k=99,n=100,p=0.33333333) ~ 100%\n",
    ">"
   ]
  },
  {
   "cell_type": "markdown",
   "metadata": {},
   "source": [
    "## Geometric distributions\n",
    "Suppose you have an unfair coin, with a 68% chance of getting tails. What is the probability that the first\n",
    "head will be on the 3rd trial?\n",
    ">**ANSWER:** The probability of P(TTH) is $.68\\times.68\\times.32 \\approx .15$, in contrast, the probability of getting one H in three tosses is $(3!/2!)\\times.68\\times.68\\times.32 \\approx .44$. \n",
    "\n",
    "## Poisson distribution\n",
    "On average 20 taxis drive past your office every 30 minutes. What is the probability that 30 taxis will drive\n",
    "by in 1 hour?\n",
    ">**ANSWER:** These are very large numbers for a poisson distribution, nevertheless, our rate is 20 per 30 minutes, but our window is two 30 minute periods. We will fudge slightly and convert to r=40 per hour.  ```taxi_dist = lambda k: ( np.exp(-40)*(40)**k ) / math.factorial(k)``` with k=30, or just use ```stats.poisson.pmf(30, 40)``` both give **0.0185** for the probability."
   ]
  },
  {
   "cell_type": "code",
   "execution_count": 73,
   "metadata": {
    "collapsed": false
   },
   "outputs": [
    {
     "name": "stdout",
     "output_type": "stream",
     "text": [
      "0.01846547096073407\n"
     ]
    },
    {
     "data": {
      "text/plain": [
       "0.018465470960734108"
      ]
     },
     "execution_count": 73,
     "metadata": {},
     "output_type": "execute_result"
    }
   ],
   "source": [
    "'''Calculations for above problems ^^^^^'''\n",
    "import math as math; import numpy as np; import scipy.stats as stats\n",
    "\n",
    "taxi_dist = lambda k: ( np.exp(-40)*(40)**k ) / math.factorial(k)\n",
    "print ( taxi_dist(30) )\n",
    "stats.poisson.pmf(30, 40) \n"
   ]
  },
  {
   "cell_type": "markdown",
   "metadata": {},
   "source": [
    "## Exponential distribution\n",
    "Let X, the number of years a computer works, be a random variable that follows an exponential distribution\n",
    "with a lambda of 3 years. You just bought a computer, what is the probability that the computer will work\n",
    "in 8 years?\n",
    "\n",
    ">**ANSWER:** ```np.exp(-8/3) = 0.069483451222801543```\n",
    "\n",
    "Extra Credit: Let X be a random variable that now follows an exponential distribution with a half-life of\n",
    "6 years. Find the parameter of the exponential distribution. What is the probability P(X > 10) and the\n",
    "conditional probability P(X > 20|X > 10)? \n",
    "\n",
    ">**ANSWER:** Given a half life of 6, $\\tau_{1/2} = ln(2)/\\lambda$ Solve for lambda, 0.1155245301. P(X > 10) is ```np.exp(-10/0.1155245301)``` Exponential distributions are memoryless, so P(X > 20|X > 10) is 20-10=10, P(X > 10) the same probability! A half life of 6, has a mean lifetime ~8.7, so 10 is pushing it!\n",
    "\n",
    "## Uniform distribution\n",
    "Let the random variable X be the angle of a slice of pizza. The angle X has a uniform distribution on the\n",
    "interval [0, 90]. What is the probability that your slice of pizza will have an angle between 30 and 40°?\n",
    "Extra Credit: X is uniform on the interval [a, b], can you derive the expected value E(X)?\n",
    "V (X)?\n",
    ">**ANSWER:** All angles are equally likely (it is uniform). So (40-30)/(90-0) is 1/9th. (but really there is no 0-5 degree slice due physical limits of pizza molecules, the interval would probably be more like [5,90]!). For arbitrary intervals, E(x) is just(b + a)/2. V(x) is  The variance 1/12 (b-a)^2.\n",
    "\n",
    "## Normal distribution\n",
    "1. Suppose X has a standard normal distribution. Compute P(X > 9), P(1 < X < 3) and P(X > −3).\n",
    ">**ANSWER:**  I presume the metrics of this question are in units of stand deviations since no population mean or variance is given. P(X \\> 9) is the area under the curve, to the right of the $9\\sigma$. This is an extremely rare event, For greater than 9 the probability is 1 - zscore(9) = (practically impossible, and if it occurs, check your assumptions.) Printed Z-score tables seldom go beyond 4, a zscore of 9 is more than 15 digits of 0s (1.12858840595e-19). It's never going to happen in the universe's lifetime.\n",
    "<br>&nbsp;<br>\n",
    ">For P(1 < X < 3) this is the area between $3\\sigma$ and $1\\sigma$ on the righthand side. P(1 < X < 3) is cdf(3 sigma) -> 0.9987 minus cdf(1 sigma) => 0.8413 = 0.1573 .\n",
    "<br>&nbsp;<br>\n",
    ">The P(X > -3) is the \"survival\" area, starting with $-3\\sigma$ to positive infinity on the right. P(X > -3) is 0.9987\n",
    "\n",
    "2. The weight in pounds of individuals in a population of interest has a normal distribution, with a mean\n",
    "of 150 and a standard deviation of 40. What is the expected range of values that describe the weight of\n",
    "68% of the population (Hint: use the empirical rule)? Of the people who weigh more than 170 pounds,\n",
    "what percent weigh more than 200 pounds (Hint: this is conditional probability)?\n",
    ">**ANSWER:** The empircal rule is 68% of the area lies between the -1/1 sigma boundries. 68% percent of individual's weights should be between 110 (mean - std) and 190 (mean + std).\n",
    "<br>&nbsp;<br>\n",
    ">Second question, converting 200 into a z-score z = (x – μ)/σ -> (200-150)/40 = 1.25σ, converting 70 -> (70-150)/40 = -2σ. We want P(X > 200)/P(X > 70) -> 0.1056/0.9772 = 0.1081"
   ]
  },
  {
   "cell_type": "code",
   "execution_count": 29,
   "metadata": {
    "collapsed": false
   },
   "outputs": [
    {
     "name": "stdout",
     "output_type": "stream",
     "text": [
      "exponential scratch work\n",
      "0.0694834512228 2.55111644631e-38\n",
      "\n",
      "normal distributions scratch work\n",
      "P(1 < X < 3) is cdf(3 sigma) -> 0.9987 minus cdf(1 sigma) => 0.8413 = 0.1573\n",
      "P(X > -3) is 0.9987\n",
      "\n",
      "weight distribution problems\n",
      "110 (mean - std) and 190 (mean + std)\n",
      "1.25 -2.0\n",
      "P(X > 200)/P(X > 70) -> 0.1056/0.9772 = 0.1081\n"
     ]
    }
   ],
   "source": [
    "'''Calculations for above questions ^^^'''\n",
    "import scipy.stats as stats; import numpy as np\n",
    "\n",
    "print(\"exponential scratch work\")\n",
    "\n",
    "print( np.exp(-8/3), np.exp(-10/0.1155245301) )\n",
    "\n",
    "print(\"\\nnormal distributions scratch work\")\n",
    "cdf3,cdf1 =stats.norm.cdf(3,0,1),stats.norm.cdf(1,0,1)\n",
    "print(\"P(1 < X < 3) is cdf(3 sigma) -> {0:.4f} minus cdf(1 sigma) => {1:.4f} = {2:.4f}\".format(cdf3,cdf1,cdf3-cdf1) )\n",
    "print(\"P(X > -3) is {0:.4f}\".format(stats.norm.sf(-3)) )\n",
    "\n",
    "print(\"\\nweight distribution problems\")\n",
    "mean,std = 150,40\n",
    "print( \"{} (mean - std) and {} (mean + std)\".format(mean-std,mean+std) )\n",
    "print((200-150)/40,(70-150)/40)\n",
    "sig70 = 1 - stats.norm.cdf(-2,0,1)\n",
    "sig200 = 1 - stats.norm.cdf(1.25,0,1)\n",
    "print(\"P(X > 200)/P(X > 70) -> {0:.4f}/{1:.4f} = {2:.4f}\".format(sig200,sig70,sig200/sig70))"
   ]
  },
  {
   "cell_type": "markdown",
   "metadata": {},
   "source": [
    "# Descriptive Statistics\n",
    "## 3 Measures of Average\n",
    "Give the mean, median and mode of the following data:\n",
    "[20, 45, 68, 900, 57, 45, 33, 35, 45, 22]\n",
    ">**ANSWER:** Without removing the extreme outlier of 900 in data, mean is 127.00, sd is 258.04, median is 45.0, the mode is 45 which appears 3 times. Removing values not within 2 sd of mean, the adjusted mean is mean is 41.11, sd is 14.66, median is 45.0\n",
    "\n",
    "<br>Do you think the mean is a good summary statistic? Why or why not?\n",
    ">**ANSWER:** The extreme value of 900 in this set of 10 numbers of which 9 are less than 70 is cause for careful examination. There are three main possibilities. A) This set is a rare event of an unlikely sample drawn from the population. You sould consider drawing from a larger sample, or agree to discard outliers in your methodology; B) The outlier of 900 is a result of clerical or instruental error, and should be discarded; or C) The underlying population is not accurately modeled by a central tendency, and all assumptions about your model should be questioned.\n",
    "\n",
    "## Variance, Range, IQR\n",
    "Give the mean, the variance, the standard deviation, the range and the interquartile of range of the following\n",
    "data: [20, 45, 68, 900, 57, 45, 33, 35, 45, 22]\n",
    ">**ANSWER:** The mean is 127.00, variance is 66585.60, sd is 258.04, range is [20, 900], iqr is 20.50"
   ]
  },
  {
   "cell_type": "code",
   "execution_count": 56,
   "metadata": {
    "collapsed": false
   },
   "outputs": [
    {
     "name": "stdout",
     "output_type": "stream",
     "text": [
      "[20, 22, 33, 35, 45, 45, 45, 57, 68, 900]\n",
      "mean is 127.00, sd is 258.04, median is 45.0\n",
      "---\n",
      "[20, 22, 33, 35, 45, 45, 45, 57, 68]\n",
      "mean is 41.11, sd is 14.66, median is 45.0\n",
      "---\n",
      "mean is 127.00, variance is 66585.60, sd is 258.04, range is [20, 900], iqr is 20.50\n"
     ]
    }
   ],
   "source": [
    "'''Calculations for above questions ^^^'''\n",
    "import numpy\n",
    "\n",
    "data = np.array([20, 45, 68, 900, 57, 45, 33, 35, 45, 22])\n",
    "sorted_data = sorted(data)\n",
    "print(sorted_data)\n",
    "median = numpy.median(data)\n",
    "mean = numpy.mean(data)\n",
    "sd = numpy.std(data)\n",
    "print(\"mean is {0:.2f}, sd is {1:.2f}, median is {2}\".format(mean,sd,median))\n",
    "print(\"---\")\n",
    "pruned = [x for x in data if (x > mean - 2 * sd) and (x < mean + 2 * sd)]\n",
    "print(sorted(pruned))\n",
    "adj_median = numpy.median(pruned)\n",
    "adj_mean = numpy.mean(pruned)\n",
    "adj_sd = numpy.std(pruned)\n",
    "print(\"mean is {0:.2f}, sd is {1:.2f}, median is {2}\".format(adj_mean,adj_sd,adj_median))\n",
    "\n",
    "print(\"---\")\n",
    "var = np.var(data)\n",
    "drange = [sorted_data[0],sorted_data[-1]]\n",
    "iqr = np.percentile(data,75) - np.percentile(data,25)\n",
    "print(\"mean is {0:.2f}, variance is {1:.2f}, sd is {2:.2f}, range is {3}, iqr is {4:.2f}\".format(mean,var,sd,str(drange),iqr))\n"
   ]
  },
  {
   "cell_type": "markdown",
   "metadata": {},
   "source": [
    "## Discrete random variables\n",
    "Give the expression of the mean and the variance for a discrete random variable X.\n",
    ">Formula for the mean is ${\\mu_x = \\sum x_i\\times p_i}$. The variance is $\\sigma_x^2 = {\\sum [(x_i-\\mu_x)^2 p_i}]$\n",
    "\n",
    "## Continuous random variables\n",
    "Give the expression of the mean and the variance for a continuous random variable X.\n",
    "> The mean is defined by the density curve of the distribution: $\\mu =  \\int^{+\\infty}_{-\\infty} xf(x) \\mathrm{d}x.  $ The variance is $\\sigma^2 =  \\int^{+\\infty}_{-\\infty} (x-\\mu)^2f(x) \\mathrm{d}x$ However, unlike the discrete formulas, these integrals still must be solved or approximated before \"plugging\" in the numbers."
   ]
  },
  {
   "cell_type": "markdown",
   "metadata": {},
   "source": [
    "# Inferential Statistics\n",
    "\n",
    "## 1. Confidence intervals\n",
    "    \n",
    "1. We are polling to get the approval rate of the president. Out of a population of 4 million, 6014 were surveyed and 3485 expressed their approval. Construct a 95% confidence interval for the approval rate of the president.\n",
    ">**ANSWER:** This is a very large sample size. The z-score for 95% is  In practice, however, polls are usually doctored by oversampling various known subpopultions out of proportion to the general population to fine tune the results the pollster's wishes. The media gets a pass, whereas scientists would be fired for such.\n",
    "    \n",
    "2. The weight of a random sample of 100 individuals from a population of interest was surveyed and yielded a sample average weight of 150 pounds and sample standard deviation of 20 pounds. Construct a 95% confidence interval for the average weight of the population.\n",
    ">**ANSWER:** \n",
    "\n",
    "## 2. General hypothesis testing\n",
    "    \n",
    "1. What is the definition of a significance level? Of a p-value?\n",
    ">**ANSWER:** Signicance level is measure of psychological confidence that the measured/sample mean is between a bounded range of values somewhat arbitrarily determined ahead of time and by consensus of the community. The p-value is a measure of indirect evidence used in the 20th century by frequentists to confidently accept (or reject) a proposition that a population/sample mean is likely (or unlikely) to be within the normalized bounds based on the central limit theorem and sample mean of sample distribution. The p-value can be assigned to both tails of a probabily mass function or just one side of tail. Small p-values if chosen ahead time can be used to instill confidence in a sample as a measure of a larger unknown population. However, selecting correlations from a many factor study based on posterior small p-values is a statistical sin of extreme bias and will likely result in unreproducible research -- which is ironic, since the entire theory of p-values is based on mathematically derived 'unbiased' estimators. \n",
    "    \n",
    "2. Would you use a one tailed or two tailed tests in the following cases:\n",
    "   \n",
    "   * Investigating if women are paid less than men.\n",
    ">**ANSWER:** We are testing for a direction in the research hypothesis that women are paid less, so we would use a one-tailed test (on the \"less\" end of the sample test    \n",
    "   * Comparing the click-through rate of website when the ‘subscribe’ button is green vs. when it is blue.\n",
    ">**ANSWER:**We don't have a research claim that green or blue is better, so we use two-tailed test\n",
    "3. A man goes to trial. In a hypothesis testing framework, let’s define the null hypothesis as Not Guilty and the alternative hypothesis as Guilty.\n",
    "   \n",
    "    * What type of error is made when the man is actually not guilty but verdict returned is guilty?\n",
    ">**ANSWER:**  False Positive or Type I, failed to reject the correct 'not guilty' verdict.\n",
    "\n",
    "    * What type of error is made when the man is actually guilty but verdict returned is not guilty?\n",
    ">**ANSWER:**  False Negative or Type II, falsely accepted 'not guilty'\n"
   ]
  },
  {
   "cell_type": "markdown",
   "metadata": {},
   "source": [
    "## 3. One sample hypothesis testing\n",
    "    1. We want the test the hypothesis that at least 68% of the Canadian population (aged 18+) went to the movies at least once in the past 12 months with a significance level of 5%. We surveyed 4,000 respondents and found 3,012 did go at least once to the movies in the past 12 months. How would your conclusion compare if you only had 40 respondents, 30 of which went to the movies at least once in the past 12 months\n",
    ">**ANSWER:** A two-tailed test with a p-value of 0.05 is 1.96. The sample means are almost the same 3012/4000 and 30/40 as both ~ .75. However, for calculating cirtical values we take the sample standard deviation and divide by the square root of the sample size. The square root of 4000 is ~ 63, and 40 is ~ 6.3. Dividing by the larger 63 makes the width of the confidence interval much narrower -- and trustworthy.\n",
    "    \n",
    "    2. We want to test the hypothesis that the average weight in North America is at least 175 pounds. The mean of weights of the 100 individuals sampled is 178 pounds, with a sample standard deviation of 8 pounds. What are you conclusions?\n",
    ">**ANSWER:** The sample average is well within the two-tailed confidence interval for p-value= 0.05. Left margin of error: 176.4320 -> Sample mean 178.0000 <- 179.5680 right margin of error. There is no significant evidence for rejecting the claim that the average weight of North Americans is 175.\n",
    "\n",
    "    3. We want to investigate the claim that on average, sea turtles lay 110 eggs in a nest. Volunteers have gone out and counted the number of eggs in 20 nest. What do you conclude?\n",
    "        • Data: 101, 120, 154, 89, 97, 132, 126, 105, 94, 111, 98, 90, 88, 115, 99, 85, 131, 127, 116\n",
    ">**ANSWER:** The sample mean is well within the two-tailed p-value 0.05 test: Left margin of error: 101.1765 -> Sample mean 109.3684 <- 117.5603 right margin of error. This offers no support that the claim of 110 is false, it is in fact, well supported."
   ]
  },
  {
   "cell_type": "code",
   "execution_count": 50,
   "metadata": {
    "collapsed": false
   },
   "outputs": [
    {
     "name": "stdout",
     "output_type": "stream",
     "text": [
      "\n",
      "Problem 1: \n",
      "1.95996398454\n",
      "0.753 0.75\n",
      "[ 63.2455532    6.32455532]\n",
      "\n",
      "Problem 2: \n",
      "Standard deviation for sample mean:  0.8\n",
      "Left margin of error: 176.4320 -> Sample mean 178.0000 <- 179.5680 right margin of error \n",
      "\n",
      "Problem 3: Eggs per nest\n",
      "\n",
      "The easy way, with 'stats.describe'  DescribeResult(nobs=19, minmax=(85, 154), mean=109.36842105263158, variance=350.35672514619887, skewness=0.6410930507834778, kurtosis=-0.31282265209894256)\n",
      "Standard deviation for sample mean:  4.1796304137\n",
      "Left margin of error: 101.1765 -> Sample mean 109.3684 <- 117.5603 right margin of error \n"
     ]
    }
   ],
   "source": [
    "'''Scrach work for above problems ^^^^^^'''\n",
    "import numpy as np; import scipy.stats  as stats\n",
    "\n",
    "print(\"\\nProblem 1: \")\n",
    "z_c = stats.norm.ppf(q = 0.975)  \n",
    "print(z_c)\n",
    "sample_mean1 = 3012/4000\n",
    "sample_mean2 = .75\n",
    "print(sample_mean1,sample_mean2)\n",
    "print(np.sqrt([4000,40]))\n",
    "\n",
    "print(\"\\nProblem 2: \")\n",
    "population_mean = 175\n",
    "sample_mean = 178\n",
    "sample_sd = 8\n",
    "sd_sample_size_n = sample_sd/10\n",
    "print(\"Standard deviation for sample mean: \",sd_sample_size_n)\n",
    "#two tail z-score for p=0.05\n",
    "z_c = stats.norm.ppf(q = 0.975)  \n",
    "margin_of_error = z_c*sd_sample_size_n\n",
    "print(\"Left margin of error: {0:0.4f} -> Sample mean {1:0.4f} <- {2:0.4f} right margin of error \".format(\n",
    "    sample_mean - margin_of_error,sample_mean,sample_mean + margin_of_error))\n",
    "\n",
    "print(\"\\nProblem 3: Eggs per nest\\n\")\n",
    "\n",
    "eggs_per_nest = np.array([101, 120, 154, 89, 97, 132, 126, 105, 94, 111, 98, 90, 88, 115, 99, 85, 131, 127, 116])\n",
    "\n",
    "print(\"The easy way, with 'stats.describe' \", stats.describe(eggs_per_nest))\n",
    "\n",
    "sample_mean = np.mean(eggs_per_nest)\n",
    "sample_sd = np.std(eggs_per_nest)\n",
    "#iqr = np.percentile(eggs_per_nest,75) - np.percentile(eggs_per_nest,25)\n",
    "sd_sample_size_n = sample_sd/np.sqrt(len(eggs_per_nest))\n",
    "print(\"Standard deviation for sample mean: \",sd_sample_size_n)\n",
    "#two tail z-score for p=0.05\n",
    "z_c = stats.norm.ppf(q = 0.975)  \n",
    "margin_of_error = z_c*sd_sample_size_n\n",
    "print(\"Left margin of error: {0:0.4f} -> Sample mean {1:0.4f} <- {2:0.4f} right margin of error \".format(\n",
    "    sample_mean - margin_of_error,sample_mean,sample_mean + margin_of_error))\n"
   ]
  },
  {
   "cell_type": "markdown",
   "metadata": {},
   "source": [
    "## 4. Two sample hypothesis testing\n",
    "    1. Is there a meaningful difference between the proportion of teenagers vs that of adults that go to the movies at least once per month? Data: 1000 teenagers are surveyed, 780 answer positively. 1000 adults are surveyed, 620 answer positively.\n",
    "    \n",
    ">**ANSWER:** The survey is a binary question (y/n), so we are comparing two binomial proportions. We calculate the test statistic z-score from the two samples using binomial proportions formula, it is 7.81, (given teen ave: 0.78, adult ave: 0.62). Using a p-value = 0.05, we can calulate the two-tail critical z-score of 1.96. 7.81 is far larger and grounds for rejecting the hypothesis these two proportions are the same with 95% confindence. Calculations shown in cell below.\n",
    "\n",
    "    2. Is there a meaningful difference between the average wingspan of bald eagles vs that of crowned eagles?\n",
    "        • Data for bald eagles (in ft): [7.4, 7.7, 6.0, 6.7, 8.3, 6.5, 6.9, 7.7, 7.8, 7.3, 6.9, 6.5, 6.3, 4.8, 8.0, 6.8, 5.8, 6.9, 6.3, 6.3, 6.4, 5.1, 6.9, 7.6, 5.6, 6.5, 6.7, 7.8, 6.6, 6.9, 7.0, 6.4, 7.4, 6.0, 7.0, 5.3, 5.8, 6.4, 7.1, 5.5, 7.0, 6.7, 5.8, 6.1, 7.1, 7.9, 7.7, 6.2, 5.3, 6.4, 6.9, 5.9, 7.8, 5.6, 5.0, 5.5, 6.4, 7.1, 8.6, 9.3, 6.8, 7.6, 7.2, 7.1, 5.8, 5.9, 5.1, 6.6, 6.8, 5.7, 6.3, 7.3, 6.3, 7.2, 7.7, 6.0, 7.2, 5.9, 7.2, 7.0, 7.4, 6.5, 7.8, 5.9, 6.3, 6.3, 8.3, 5.9, 6.9, 7.8]\n",
    "        \n",
    "        • Data for crowned eagles (in ft): [5.3, 5.6, 5.8, 5.3, 5.6, 4.9, 5.7, 5.4, 5.8, 5.4, 6.0, 5.4, 5.1, 5.4, 5.2, 5.7, 4.8, 5.8, 5.7, 5.1, 5.3, 5.4, 5.7, 6.6, 5.0, 5.4, 5.3, 5.5, 5.2, 5.6, 5.2, 5.9, 5.7, 5.8, 5.5, 5.2, 4.0, 5.8, 5.2, 6.2, 5.4, 4.6, 5.3, 5.8, 6.3, 4.8, 5.6, 5.4, 5.2, 5.4, 5.1, 6.0, 6.1, 5.4, 5.4, 5.3, 5.0, 6.0, 5.0, 5.8, 5.1, 5.3, 4.8, 5.6, 5.7, 6.1, 5.0, 6.4, 5.1, 4.6, 5.3, 6.0, 4.8, 5.4, 4.3, 5.4, 5.1, 4.7, 6.0, 5.5, 5.4, 5.6, 5.2, 5.8, 5.3, 4.9, 5.3, 5.5, 5.7, 4.7, 6.0, 5.6, 4.9, 5.4, 4.3, 5.5, 4.9, 5.3, 5.6, 6.0]\n",
    "        \n",
    "   >**ANSWER:** This problem, unlike problem 1, is not binary, we need to can calculate the sample standard deviations! We can use traditional two sample t-tests provided by scipy. The t-test produces pvalue=1.4522699586827181e-24 -- literally off the charts, it is virtually impossible that these two bird could differ this much by chance. "
   ]
  },
  {
   "cell_type": "code",
   "execution_count": 73,
   "metadata": {
    "collapsed": false
   },
   "outputs": [
    {
     "name": "stdout",
     "output_type": "stream",
     "text": [
      "Test statics 7.8072 is larger than z-critical 1.9600 for comparing two means 0.78 and 0.62\n",
      "\n",
      "--- Bald eagle vs Crowned eagle cage match -----\n",
      "Bald Eagle:  DescribeResult(nobs=90, minmax=(4.7999999999999998, 9.3000000000000007), mean=6.6999999999999984, variance=0.7516853932584272, skewness=0.1909879667727878, kurtosis=-0.04727221540750692)\n",
      "Crowned Eagle:  DescribeResult(nobs=100, minmax=(4.0, 6.5999999999999996), mean=5.4050000000000002, variance=0.20775252525252524, skewness=-0.2370934707400489, kurtosis=0.5237040462237141)\n",
      "Ttest_indResult(statistic=12.680496273754102, pvalue=1.4522699586827181e-24)\n"
     ]
    }
   ],
   "source": [
    "import numpy as np; import scipy.stats as stats\n",
    "\n",
    "teen_mean = 780/1000\n",
    "adult_mean = 620/1000\n",
    "phat_mean = (780+620)/2000 # sample sizes are the same for each\n",
    "test_stat = (teen_mean - adult_mean)/np.sqrt(phat_mean*(1-phat_mean)*(2/1000))\n",
    "z_c = stats.norm.ppf(q = 0.975)  \n",
    "\n",
    "print(\"Test statics {0:.04f} is larger than z-critical {1:.04f} for comparing two means {2} and {3}\".format(test_stat,z_c,teen_mean,adult_mean,phat_mean) )\n",
    "\n",
    "print(\"\\n--- Bald eagle vs Crowned eagle cage match -----\")\n",
    "bald = [7.4, 7.7, 6.0, 6.7, 8.3, 6.5, 6.9, 7.7, 7.8, 7.3, 6.9, 6.5, 6.3, 4.8, 8.0, 6.8, 5.8, 6.9, 6.3, 6.3, 6.4, 5.1, 6.9, 7.6, 5.6, 6.5, 6.7, 7.8, 6.6, 6.9, 7.0, 6.4, 7.4, 6.0, 7.0, 5.3, 5.8, 6.4, 7.1, 5.5, 7.0, 6.7, 5.8, 6.1, 7.1, 7.9, 7.7, 6.2, 5.3, 6.4, 6.9, 5.9, 7.8, 5.6, 5.0, 5.5, 6.4, 7.1, 8.6, 9.3, 6.8, 7.6, 7.2, 7.1, 5.8, 5.9, 5.1, 6.6, 6.8, 5.7, 6.3, 7.3, 6.3, 7.2, 7.7, 6.0, 7.2, 5.9, 7.2, 7.0, 7.4, 6.5, 7.8, 5.9, 6.3, 6.3, 8.3, 5.9, 6.9, 7.8]\n",
    "crowned = [5.3, 5.6, 5.8, 5.3, 5.6, 4.9, 5.7, 5.4, 5.8, 5.4, 6.0, 5.4, 5.1, 5.4, 5.2, 5.7, 4.8, 5.8, 5.7, 5.1, 5.3, 5.4, 5.7, 6.6, 5.0, 5.4, 5.3, 5.5, 5.2, 5.6, 5.2, 5.9, 5.7, 5.8, 5.5, 5.2, 4.0, 5.8, 5.2, 6.2, 5.4, 4.6, 5.3, 5.8, 6.3, 4.8, 5.6, 5.4, 5.2, 5.4, 5.1, 6.0, 6.1, 5.4, 5.4, 5.3, 5.0, 6.0, 5.0, 5.8, 5.1, 5.3, 4.8, 5.6, 5.7, 6.1, 5.0, 6.4, 5.1, 4.6, 5.3, 6.0, 4.8, 5.4, 4.3, 5.4, 5.1, 4.7, 6.0, 5.5, 5.4, 5.6, 5.2, 5.8, 5.3, 4.9, 5.3, 5.5, 5.7, 4.7, 6.0, 5.6, 4.9, 5.4, 4.3, 5.5, 4.9, 5.3, 5.6, 6.0]\n",
    "print(\"Bald Eagle: \",stats.describe(bald))\n",
    "print(\"Crowned Eagle: \",stats.describe(crowned))\n",
    "\n",
    "print(stats.ttest_ind(a=bald, b=crowned, equal_var=False))\n",
    "\n"
   ]
  },
  {
   "cell_type": "markdown",
   "metadata": {
    "collapsed": true
   },
   "source": [
    "## Relationship between two quantitative variables\n",
    "\n",
    "1. Dataset\n",
    "x = [0, 1, 2, 3, 5]\n",
    "y = [1, 2.1, 3.2, 4, 6.1]\n",
    "(a) Plot corresponding the scatter plot.\n",
    "(b) Find the least square regression line y = ax + b. Add it to your plot.\n",
    "(c) Estimate the value of y when x = 4.\n",
    "Extra Credit: Can you do these steps in Python?\n",
    "\n",
    ">**ANSWER:** Regression line: 1.0081x + 1.0622\n",
    "Estimated value of y when x = 4.0000 is 5.0946 (see plot below)"
   ]
  },
  {
   "cell_type": "code",
   "execution_count": 93,
   "metadata": {
    "collapsed": false
   },
   "outputs": [
    {
     "name": "stdout",
     "output_type": "stream",
     "text": [
      "Regression line: 1.0081x + 1.0622\n",
      "Estimated value of y when x = 4.0000 is 5.0946\n"
     ]
    },
    {
     "data": {
      "text/plain": [
       "<matplotlib.collections.PathCollection at 0x1f54ff44048>"
      ]
     },
     "execution_count": 93,
     "metadata": {},
     "output_type": "execute_result"
    },
    {
     "data": {
      "image/png": "[encoded data removed]",
      "text/plain": [
       "<matplotlib.figure.Figure at 0x1f54fe5be10>"
      ]
     },
     "metadata": {},
     "output_type": "display_data"
    }
   ],
   "source": [
    "x = np.array([0, 1, 2, 3, 5])\n",
    "y = np.array([1, 2.1, 3.2, 4, 6.1])\n",
    "\n",
    "m, b = np.polyfit(x, y, 1)\n",
    "\n",
    "m, b = np.polyfit(x, y, 1)\n",
    "print(\"Regression line: {0:0.04f}x + {1:0.04f}\".format(m,b))\n",
    "x_giv = 4\n",
    "y_est = m*x_giv + b\n",
    "print(\"Estimated value of y when x = {0:0.04f} is {1:0.04f}\".format(x_giv,y_est))\n",
    "\n",
    "plt.plot(x, m*x + b, '-')\n",
    "plt.scatter(x,y)"
   ]
  },
  {
   "cell_type": "markdown",
   "metadata": {},
   "source": [
    "2.) Dataset\n",
    "x = [0, 1, 2, 3, 4, 7, 9, 11, 30]\n",
    "y = [2., 4.9, 8., 10.8, 13.9, 23.1, 29., 35., 92.1]\n",
    "    a. Find the least square regression line for the given data points.\n",
    "    b. Plot the given points and the regression line on the same graph.\n",
    "\n",
    ">**ANSWER:** Regression line: 3.0060x + 1.9332. See plot below "
   ]
  },
  {
   "cell_type": "code",
   "execution_count": 87,
   "metadata": {
    "collapsed": false
   },
   "outputs": [
    {
     "name": "stdout",
     "output_type": "stream",
     "text": [
      "Regression line: 3.0060x + 1.9332\n"
     ]
    },
    {
     "data": {
      "image/png": "[encoded data removed]",
      "text/plain": [
       "<matplotlib.figure.Figure at 0x1f54fdee0b8>"
      ]
     },
     "metadata": {},
     "output_type": "display_data"
    }
   ],
   "source": [
    "import seaborn as sns; sns.set(color_codes=True)\n",
    "\n",
    "x = np.array([0, 1, 2, 3, 4, 7, 9, 11, 30])\n",
    "y = np.array([2., 4.9, 8., 10.8, 13.9, 23.1, 29., 35., 92.1])\n",
    "\n",
    "m, b = np.polyfit(x, y, 1)\n",
    "print(\"Regression line: {0:0.04f}x + {1:0.04f}\".format(m,b))\n",
    "\n",
    "ax = sns.regplot(x=x, y=y, color=\"r\", line_kws={'alpha':0.2})\n",
    "\n"
   ]
  },
  {
   "cell_type": "markdown",
   "metadata": {},
   "source": [
    "3.) We have the following (x,y) points:\n",
    "data = [(0, 42.0), (1, -101.0), (2, 21.0), (3, -38.0), (4, 5.0), (7, 20.0), (9, 293.0), (11, 266.0), (15, 625.0), (20, 1266.0), (25, 1757.0), (30, 2844.0)]\n",
    "* Plot the data\n",
    "* How do you think a linear model would perform? How about a 100 degree polynomial model? \n",
    "How would you figure out which of these models was preferable?\n",
    "* How would you model the relationship between these features?\n",
    "\n",
    ">**ANSWER:** The relationship is very well fit by a quadratic equation. The linear model would only produce reasonable results at a few points in the middle. It would be very hard to get 100 degreed polynomial out of this dataset. A good polynomial model fitter would reject 97 coefficients, set them equal to 0, and return just the x^2, x and constant coef.  If your really, really wanted to overfit the equation, you'd have use bootstrapping to add more noise to the data -- it is too close to quadratic now. (Chart below)."
   ]
  },
  {
   "cell_type": "code",
   "execution_count": 104,
   "metadata": {
    "collapsed": false
   },
   "outputs": [
    {
     "name": "stdout",
     "output_type": "stream",
     "text": [
      "Regression line: 87.7774x + -345.6436\n",
      "Quadratic Regression line: 3.3902x^2 + -8.2115x + -16.5514\n"
     ]
    },
    {
     "data": {
      "image/png": "[encoded data removed]",
      "text/plain": [
       "<matplotlib.figure.Figure at 0x1f550a5eef0>"
      ]
     },
     "metadata": {},
     "output_type": "display_data"
    }
   ],
   "source": [
    "data = [(0, 42.0), (1, -101.0), (2, 21.0), (3, -38.0), (4, 5.0), (7, 20.0), (9, 293.0), (11, 266.0), (15, 625.0), (20, 1266.0), (25, 1757.0), (30, 2844.0)]\n",
    "x,y=map(np.array, zip(*data))\n",
    "\n",
    "m, b = np.polyfit(x, y, 1)\n",
    "print(\"Regression line: {0:0.04f}x + {1:0.04f}\".format(m,b))\n",
    "a_2,a_1,a_0 = np.polyfit(x, y, 2)\n",
    "print(\"Quadratic Regression line: {0:0.04f}x^2 + {1:0.04f}x + {2:0.04f}\".format(a_2,a_1,a_0))\n",
    "\n",
    "ax = sns.regplot(x=x, y=y, order=2,color=\"r\", line_kws={'alpha':0.2})\n",
    "ax = sns.regplot(x=x, y=y, color=\"g\", line_kws={'alpha':0.2})\n"
   ]
  },
  {
   "cell_type": "markdown",
   "metadata": {},
   "source": [
    "4.) We have a dataset that gives the height and age of a sample of people. The range of age spans from 1\n",
    "to 60 years. We decide to compute the correlation coefficient to model to understand the relationship\n",
    "between these features.\n",
    "(a) Do you expect the correlation coefficient to be positive or negative?\n",
    "(b) What are some of the limitation of this approach?\n",
    "\n",
    ">**ANSWER** The correlation would be strongly positive from youth to adulthood. Then, as humans quit growing, the correlatoin would disappear. It would be best to stop at adulthood for the simplest curve fitting, linear regression would predict 700ft humans at age 60."
   ]
  },
  {
   "cell_type": "code",
   "execution_count": null,
   "metadata": {
    "collapsed": true
   },
   "outputs": [],
   "source": []
  }
 ],
 "metadata": {
  "anaconda-cloud": {},
  "kernelspec": {
   "display_name": "Python [default]",
   "language": "python",
   "name": "python3"
  },
  "language_info": {
   "codemirror_mode": {
    "name": "ipython",
    "version": 3
   },
   "file_extension": ".py",
   "mimetype": "text/x-python",
   "name": "python",
   "nbconvert_exporter": "python",
   "pygments_lexer": "ipython3",
   "version": "3.5.2"
  }
 },
 "nbformat": 4,
 "nbformat_minor": 1
}
